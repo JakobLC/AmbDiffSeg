{
 "cells": [
  {
   "cell_type": "markdown",
   "metadata": {},
   "source": [
    "# Loss plot\n",
    "\n",
    "Generate a loss plot from a saved model checkpoint. Requires you to have saved a model trained from scratch."
   ]
  },
  {
   "cell_type": "code",
   "execution_count": null,
   "metadata": {},
   "outputs": [],
   "source": [
    "python sample.py --name_match_str \"*/*/01-28-17-24_lidcv8[super_long][rare_gen]_0/ckpt_400000.pt\" --gen_id \"finals_test4_*\" --gen_setup lidc_amb[vali][all][pp2]\n"
   ]
  },
  {
   "cell_type": "code",
   "execution_count": null,
   "metadata": {},
   "outputs": [],
   "source": [
    "import torch\n",
    "import matplotlib.pyplot as plt\n",
    "\n",
    "loaded = torch.load(\"../saves/default.pt\",weights_only=False)\n",
    "\n",
    "train_steps = []\n",
    "train_loss = []\n",
    "train_iou = []\n",
    "vali_iou = []\n",
    "vali_steps = []\n",
    "for k,v in loaded[\"metrics\"][\"train\"].items():\n",
    "    train_steps.append(k)\n",
    "    train_loss.append(v[\"loss\"])\n",
    "    train_iou.append(v[\"iou\"])\n",
    "for k,v in loaded[\"metrics\"][\"vali\"].items():\n",
    "    vali_steps.append(k)\n",
    "    vali_iou.append(v[\"iou\"])\n",
    "\n",
    "\n",
    "plt.figure(figsize=(14,4))\n",
    "plt.subplot(1,2,1)\n",
    "plt.plot(train_steps,train_loss,label=\"training loss\")\n",
    "plt.yscale(\"log\")\n",
    "plt.legend()\n",
    "plt.subplot(1,2,2)\n",
    "plt.plot(train_steps,train_iou,label=\"training iou\")\n",
    "plt.plot(vali_steps,vali_iou,label=\"validation iou\")\n",
    "plt.legend()\n",
    "plt.show()"
   ]
  },
  {
   "cell_type": "code",
   "execution_count": null,
   "metadata": {},
   "outputs": [],
   "source": [
    "import matplotlib.pyplot as plt\n",
    "import torch\n",
    "import numpy as np\n",
    "\n",
    "#parameters to change\n",
    "n_show = 8 # number of images to show\n",
    "do_mean = False # whether to show mean of predictions and gts or all individually\n",
    "zoom_factor = 1 # zoom factor for the image, 1 means no zoom\n",
    "saved_eval_path = \"../saves_evaluation/default_eval.pt\" # path to the saved evaluation file\n",
    "\n",
    "map_inv = lambda x: x*0.229+0.485 # map to invert imagenet normalization for the first channel\n",
    "loaded = torch.load(saved_eval_path,weights_only=False)\n",
    "maybe_do_mean = lambda x: [sum(x)/len(x)] if do_mean else x\n",
    "\n",
    "image = []\n",
    "for i in range(n_show):\n",
    "    image.append([map_inv(loaded[\"images\"][i].numpy()[0])])\n",
    "    image[-1].extend(maybe_do_mean([loaded[\"preds\"][i][:,:,j] for j in range(loaded[\"preds\"][i].shape[2])]))\n",
    "    image[-1].extend(maybe_do_mean([loaded[\"gts\"][i][:,:,j] for j in range(loaded[\"gts\"][i].shape[2])]))\n",
    "\n",
    "n_preds = loaded[\"preds\"][i].shape[2]\n",
    "n_gts = loaded[\"gts\"][i].shape[2]\n",
    "hw = loaded[\"images\"][i].shape[1]\n",
    "if zoom_factor > 1:\n",
    "    zoom_factor = 1/zoom_factor\n",
    "zoom_idx = slice(int(hw/2-zoom_factor*hw/2),int(hw/2+zoom_factor*hw/2))\n",
    "hw2 = zoom_idx.stop-zoom_idx.start\n",
    "zoom_idx = (zoom_idx,zoom_idx)\n",
    "\n",
    "image = [[np.pad(item[zoom_idx],((1,1),(1,1)),mode=\"constant\",constant_values=1) for item in image[i]] for i in range(n_show)]\n",
    "image = [np.concatenate(image[i],axis=0) for i in range(n_show)]\n",
    "image = np.concatenate(image,axis=1)\n",
    "\n",
    "plt.figure(figsize=(15,20))\n",
    "plt.imshow(image,cmap=\"gray\",vmin=0,vmax=1)\n",
    "if do_mean:\n",
    "    ticks = [\"Image\", \"Mean Pred\", \"Mean GT\"]\n",
    "else:\n",
    "    ticks = [\"Image\"]+[\"Pred #\"+str(i) for i in range(n_preds)] + [\"GT #\"+str(i) for i in range(n_gts)]\n",
    "y = np.arange(len(ticks))* (hw2+2)+hw2//2+1\n",
    "plt.yticks(y,ticks)\n",
    "plt.xticks([]);\n"
   ]
  }
 ],
 "metadata": {
  "kernelspec": {
   "display_name": "amb-env",
   "language": "python",
   "name": "python3"
  },
  "language_info": {
   "codemirror_mode": {
    "name": "ipython",
    "version": 3
   },
   "file_extension": ".py",
   "mimetype": "text/x-python",
   "name": "python",
   "nbconvert_exporter": "python",
   "pygments_lexer": "ipython3",
   "version": "3.12.9"
  }
 },
 "nbformat": 4,
 "nbformat_minor": 2
}
